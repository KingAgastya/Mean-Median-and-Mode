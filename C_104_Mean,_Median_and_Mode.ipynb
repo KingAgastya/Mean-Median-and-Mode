{
  "nbformat": 4,
  "nbformat_minor": 0,
  "metadata": {
    "colab": {
      "name": "C - 104 - Mean, Median and Mode.ipynb",
      "provenance": [],
      "collapsed_sections": [],
      "authorship_tag": "ABX9TyPXQEY45uvrwkMcPzmFK25k",
      "include_colab_link": true
    },
    "kernelspec": {
      "name": "python3",
      "display_name": "Python 3"
    },
    "language_info": {
      "name": "python"
    }
  },
  "cells": [
    {
      "cell_type": "markdown",
      "metadata": {
        "id": "view-in-github",
        "colab_type": "text"
      },
      "source": [
        "<a href=\"https://colab.research.google.com/github/KingAgastya/Mean-Median-and-Mode/blob/main/C_104_Mean%2C_Median_and_Mode.ipynb\" target=\"_parent\"><img src=\"https://colab.research.google.com/assets/colab-badge.svg\" alt=\"Open In Colab\"/></a>"
      ]
    },
    {
      "cell_type": "code",
      "execution_count": null,
      "metadata": {
        "id": "rIVgT2Ku04s3"
      },
      "outputs": [],
      "source": [
        "#Uploading Files\n",
        "from google.colab import files\n",
        "fileData = files.upload()"
      ]
    },
    {
      "cell_type": "code",
      "source": [
        "#Reading and importing files\n",
        "import csv\n",
        "f = open(\"Height-Weight.csv\", newline = \"\")\n",
        "readFile = csv.reader(f)\n",
        "fileData = list(readFile)"
      ],
      "metadata": {
        "id": "gDycqNzvvY56"
      },
      "execution_count": null,
      "outputs": []
    },
    {
      "cell_type": "code",
      "source": [
        "#Calculating Mean\n",
        "\n",
        "import math\n",
        "\n",
        "fileData.pop(0)\n",
        "listLength = int(len(fileData))\n",
        "\n",
        "weights = []\n",
        "total = 0\n",
        "\n",
        "for i in range(listLength):\n",
        "  num = fileData[i][2]\n",
        "  weights.append(float(num))\n",
        "  total = total + float(num)\n",
        "\n",
        "average = total/listLength"
      ],
      "metadata": {
        "id": "wkdvlAOKvp0G"
      },
      "execution_count": null,
      "outputs": []
    },
    {
      "cell_type": "code",
      "source": [
        "#Calculating Median\n",
        "\n",
        "ascending_order = weights.sort()\n",
        "\n",
        "listlen2 = int(len(weights))\n",
        "\n",
        "if listlen2 % 2 == 0:\n",
        "  median = float(weights[(listlen2//2 + listlen2//2 + 1)//2])\n",
        "else:\n",
        "  median = float(weights[(listlen2+1)//2])"
      ],
      "metadata": {
        "id": "ID1-IArewOuN"
      },
      "execution_count": 7,
      "outputs": []
    },
    {
      "cell_type": "code",
      "source": [
        "#Calculating Mode\n",
        "\n",
        "modeData = {\n",
        "    \"70-80\" : 0,\n",
        "    \"80-90\" : 0,\n",
        "    \"90-100\" : 0,\n",
        "    \"100-110\" : 0,\n",
        "    \"110-120\" : 0,\n",
        "    \"120-130\" : 0,\n",
        "    \"130-140\" : 0,\n",
        "    \"140-150\" : 0,\n",
        "    \"150-160\" : 0,\n",
        "    \"160-170\" : 0,\n",
        "    \"170-180\" : 0\n",
        "  }\n",
        "\n",
        "for i in range(listLength):\n",
        "  num = int(weights[i])\n",
        "  if num > 70 and num < 80:\n",
        "    modeData[\"70-80\"] = modeData[\"70-80\"] + 1\n",
        "  elif num > 80 and num < 90:\n",
        "    modeData[\"80-90\"] = modeData[\"80-90\"] + 1\n",
        "  elif num > 90 and num < 100:\n",
        "    modeData[\"90-100\"] = modeData[\"90-100\"] + 1\n",
        "  elif num > 100 and num < 110:\n",
        "    modeData[\"100-110\"] = modeData[\"100-110\"] + 1\n",
        "  elif num > 110 and num < 120:\n",
        "    modeData[\"110-120\"] = modeData[\"110-120\"] + 1\n",
        "  elif num > 120 and num < 130:\n",
        "    modeData[\"120-130\"] = modeData[\"120-130\"] + 1\n",
        "  elif num > 130 and num < 140:\n",
        "    modeData[\"130-140\"] = modeData[\"130-140\"] + 1\n",
        "  elif num > 140 and num < 150:\n",
        "    modeData[\"140-150\"] = modeData[\"140-150\"] + 1\n",
        "  elif num > 150 and num < 160:\n",
        "    modeData[\"150-160\"] = modeData[\"150-160\"] + 1\n",
        "  elif num > 160 and num < 170:\n",
        "    modeData[\"160-170\"] = modeData[\"160-170\"] + 1\n",
        "  elif num > 170 and num < 180:\n",
        "    modeData[\"170-180\"] = modeData[\"170-180\"] + 1\n"
      ],
      "metadata": {
        "id": "AIKKOuqgwlzE"
      },
      "execution_count": null,
      "outputs": []
    },
    {
      "cell_type": "code",
      "source": [
        "#Final Output\n",
        "\n",
        "print(f\"The mean is {average}\")\n",
        "print(f\"The median is {median}\")\n",
        "print(f\"The mode is between 120 and 130\")"
      ],
      "metadata": {
        "colab": {
          "base_uri": "https://localhost:8080/"
        },
        "id": "p_hg2IVu0fRP",
        "outputId": "e41afe49-1004-4c65-c3ce-5bc77f065ea0"
      },
      "execution_count": 11,
      "outputs": [
        {
          "output_type": "stream",
          "name": "stdout",
          "text": [
            "The mean is 127.07998466018553\n",
            "The median is 127.1593\n",
            "The mode is between 120 and 130\n"
          ]
        }
      ]
    }
  ]
}